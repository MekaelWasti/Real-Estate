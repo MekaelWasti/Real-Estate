{
 "cells": [
  {
   "cell_type": "markdown",
   "metadata": {},
   "source": []
  },
  {
   "cell_type": "code",
   "execution_count": 60,
   "metadata": {},
   "outputs": [],
   "source": [
    "import numpy as np\n",
    "# import pandas as pd\n",
    "# import requests\n",
    "# import json\n",
    "\n",
    "# url = \"https://zillow-com1.p.rapidapi.com/propertyExtendedSearch\"\n",
    "\n",
    "# querystring = {\"location\":\"Whitby, Ontario, Canada\",\"home_type\":\"Houses\"}\n",
    "\n",
    "# headers = {\n",
    "# \t\"X-RapidAPI-Key\": \"f859287662msh12f0d41ffd8368ap12a4bfjsn1b8661a3169f\",\n",
    "# \t\"X-RapidAPI-Host\": \"zillow-com1.p.rapidapi.com\"\n",
    "# }\n",
    "\n",
    "# response = requests.request(\"GET\", url, headers=headers, params=querystring)\n",
    "\n",
    "# response = response.json()\n",
    "# response = pd.json_normalize(data=response['props'])\n",
    "\n",
    "# response.to_csv(\"properties.csv\")\n",
    "\n",
    "\n",
    "# print(response)# "
   ]
  },
  {
   "cell_type": "code",
   "execution_count": 61,
   "metadata": {},
   "outputs": [],
   "source": [
    "import numpy as np\n",
    "import pandas as pd\n",
    "import ast\n",
    "import json\n",
    "import firebase_admin\n",
    "from firebase_admin import credentials\n",
    "from firebase_admin import db\n",
    "\n",
    "\n"
   ]
  },
  {
   "cell_type": "code",
   "execution_count": 62,
   "metadata": {},
   "outputs": [
    {
     "ename": "ValueError",
     "evalue": "The default Firebase app already exists. This means you called initialize_app() more than once without providing an app name as the second argument. In most cases you only need to call initialize_app() once. But if you do want to initialize multiple apps, pass a second argument to initialize_app() to give each app a unique name.",
     "output_type": "error",
     "traceback": [
      "\u001b[1;31m---------------------------------------------------------------------------\u001b[0m",
      "\u001b[1;31mValueError\u001b[0m                                Traceback (most recent call last)",
      "\u001b[1;32m<ipython-input-62-e85aa4b30a0d>\u001b[0m in \u001b[0;36m<module>\u001b[1;34m\u001b[0m\n\u001b[0;32m      1\u001b[0m \u001b[0mpath\u001b[0m \u001b[1;33m=\u001b[0m \u001b[1;34m\"C:/Users/mekae/Desktop/Important/Firebase Private Key/Real Estate Firebase Key/mls-real-estate-database-firebase-adminsdk-3i7vz-8c1da107e2.json\"\u001b[0m\u001b[1;33m\u001b[0m\u001b[1;33m\u001b[0m\u001b[0m\n\u001b[0;32m      2\u001b[0m \u001b[0mcred_obj\u001b[0m \u001b[1;33m=\u001b[0m \u001b[0mfirebase_admin\u001b[0m\u001b[1;33m.\u001b[0m\u001b[0mcredentials\u001b[0m\u001b[1;33m.\u001b[0m\u001b[0mCertificate\u001b[0m\u001b[1;33m(\u001b[0m\u001b[0mpath\u001b[0m\u001b[1;33m)\u001b[0m\u001b[1;33m\u001b[0m\u001b[1;33m\u001b[0m\u001b[0m\n\u001b[1;32m----> 3\u001b[1;33m default_app = firebase_admin.initialize_app(cred_obj, {\n\u001b[0m\u001b[0;32m      4\u001b[0m         \u001b[1;34m'databaseURL'\u001b[0m\u001b[1;33m:\u001b[0m\u001b[1;34m\"https://mls-real-estate-database-default-rtdb.firebaseio.com/\"\u001b[0m\u001b[1;33m\u001b[0m\u001b[1;33m\u001b[0m\u001b[0m\n\u001b[0;32m      5\u001b[0m \t})\n",
      "\u001b[1;32mc:\\Users\\mekae\\anaconda3\\lib\\site-packages\\firebase_admin\\__init__.py\u001b[0m in \u001b[0;36minitialize_app\u001b[1;34m(credential, options, name)\u001b[0m\n\u001b[0;32m     69\u001b[0m \u001b[1;33m\u001b[0m\u001b[0m\n\u001b[0;32m     70\u001b[0m     \u001b[1;32mif\u001b[0m \u001b[0mname\u001b[0m \u001b[1;33m==\u001b[0m \u001b[0m_DEFAULT_APP_NAME\u001b[0m\u001b[1;33m:\u001b[0m\u001b[1;33m\u001b[0m\u001b[1;33m\u001b[0m\u001b[0m\n\u001b[1;32m---> 71\u001b[1;33m         raise ValueError((\n\u001b[0m\u001b[0;32m     72\u001b[0m             \u001b[1;34m'The default Firebase app already exists. This means you called '\u001b[0m\u001b[1;33m\u001b[0m\u001b[1;33m\u001b[0m\u001b[0m\n\u001b[0;32m     73\u001b[0m             \u001b[1;34m'initialize_app() more than once without providing an app name as '\u001b[0m\u001b[1;33m\u001b[0m\u001b[1;33m\u001b[0m\u001b[0m\n",
      "\u001b[1;31mValueError\u001b[0m: The default Firebase app already exists. This means you called initialize_app() more than once without providing an app name as the second argument. In most cases you only need to call initialize_app() once. But if you do want to initialize multiple apps, pass a second argument to initialize_app() to give each app a unique name."
     ]
    }
   ],
   "source": [
    "path = \"C:/Users/mekae/Desktop/Important/Firebase Private Key/Real Estate Firebase Key/mls-real-estate-database-firebase-adminsdk-3i7vz-8c1da107e2.json\"\n",
    "cred_obj = firebase_admin.credentials.Certificate(path)\n",
    "default_app = firebase_admin.initialize_app(cred_obj, {\n",
    "\t'databaseURL':\"https://mls-real-estate-database-default-rtdb.firebaseio.com/\"\n",
    "\t})\n"
   ]
  },
  {
   "cell_type": "code",
   "execution_count": 147,
   "metadata": {},
   "outputs": [
    {
     "name": "stdout",
     "output_type": "stream",
     "text": [
      "Unnamed: 0\n",
      "dateSold\n",
      "propertyType\n",
      "lotAreaValue\n",
      "daysOnZillow\n",
      "price\n",
      "listingDateTime\n",
      "longitude\n",
      "latitude\n",
      "contingentListingType\n",
      "listingStatus\n",
      "zpid\n",
      "imgSrc\n",
      "livingArea\n",
      "bathrooms\n",
      "lotAreaUnit\n",
      "country\n",
      "currency\n",
      "bedrooms\n",
      "hasImage\n",
      "listingSubType.is_FSBA\n",
      "newConstructionType\n",
      "listingSubType.is_newHome\n",
      "listingSubType.is_openHouse\n"
     ]
    }
   ],
   "source": [
    "properties = pd.read_csv(\"properties.csv\")\n",
    "properties = properties.set_index(\"address\")\n",
    "\n",
    "for column in properties:\n",
    "    properties = properties.rename(columns={column:column.replace(\".\", \"\")})\n",
    "    print(column)\n",
    "\n",
    "indent = 1\n",
    "orientation = \"index\"\n",
    "properties.to_json(\"properties.json\", orient=orientation, indent=indent)\n",
    "\n",
    "\n",
    "properties.to_csv(\"properties1.csv\")\n",
    "# properties.head()\n",
    "\n",
    "ref = db.reference(\"properties/\")\n",
    "ref.set(properties.to_json(orient=orientation, indent=indent))"
   ]
  }
 ],
 "metadata": {
  "kernelspec": {
   "display_name": "Python 3.8.3 ('base')",
   "language": "python",
   "name": "python3"
  },
  "language_info": {
   "codemirror_mode": {
    "name": "ipython",
    "version": 3
   },
   "file_extension": ".py",
   "mimetype": "text/x-python",
   "name": "python",
   "nbconvert_exporter": "python",
   "pygments_lexer": "ipython3",
   "version": "3.8.3"
  },
  "orig_nbformat": 4,
  "vscode": {
   "interpreter": {
    "hash": "aef632d9ff95ae67e87ecd772e82465cbf88e971968c79f744e1da06baa37ef6"
   }
  }
 },
 "nbformat": 4,
 "nbformat_minor": 2
}
